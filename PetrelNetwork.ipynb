{
 "cells": [
  {
   "cell_type": "markdown",
   "metadata": {},
   "source": [
    "## Analyze Petrel reference data using [Graphs](https://en.wikipedia.org/wiki/Graph_(discrete_mathematics%29) in Python [Networkx](https://networkx.github.io/documentation/stable/index.html)\n"
   ]
  },
  {
   "cell_type": "markdown",
   "metadata": {},
   "source": [
    "This notebook gives an example of how Python and the Networkx package can be used to apply Graph and network analysis to explore Petrel project data. The goal is to analyze to what degree the projects are consistent for use with Petrel reference projects and Studio repositories.\n",
    "\n",
    "The analysis is based on data collected and structured by [Blueback Project Tracker](https://cegal.com/products/oil-gas-workspace/data-management-products/blueback-project-tracker/) from Cegal.\n",
    "\n",
    "For an introduction to reference projects, search for \"reference project\" and \"guid\" in the Petrel user manual.\n",
    "\n",
    "For an introduction to network analysis in Python see this book: [Complex Network Analysis in Python](http://a.co/2SXQAl6) by Dmitry Zinoviev, and the [Networkx documentation](https://networkx.github.io/documentation/stable/index.html)\n"
   ]
  },
  {
   "cell_type": "markdown",
   "metadata": {},
   "source": [
    "### Read data fromt the Blueback Project Tracker MS SQL database\n",
    "\n",
    "Change the server and database"
   ]
  },
  {
   "cell_type": "code",
   "execution_count": 149,
   "metadata": {},
   "outputs": [
    {
     "data": {
      "text/html": [
       "<div>\n",
       "<style scoped>\n",
       "    .dataframe tbody tr th:only-of-type {\n",
       "        vertical-align: middle;\n",
       "    }\n",
       "\n",
       "    .dataframe tbody tr th {\n",
       "        vertical-align: top;\n",
       "    }\n",
       "\n",
       "    .dataframe thead th {\n",
       "        text-align: right;\n",
       "    }\n",
       "</style>\n",
       "<table border=\"1\" class=\"dataframe\">\n",
       "  <thead>\n",
       "    <tr style=\"text-align: right;\">\n",
       "      <th></th>\n",
       "      <th>ProjectId</th>\n",
       "      <th>Path</th>\n",
       "      <th>Guid</th>\n",
       "      <th>WellName</th>\n",
       "    </tr>\n",
       "  </thead>\n",
       "  <tbody>\n",
       "    <tr>\n",
       "      <th>0</th>\n",
       "      <td>3</td>\n",
       "      <td>D:\\NotBackedup\\2012.pet</td>\n",
       "      <td>02C62C82-552D-444D-BF6B-69CD07376368</td>\n",
       "      <td>A10</td>\n",
       "    </tr>\n",
       "    <tr>\n",
       "      <th>1</th>\n",
       "      <td>3</td>\n",
       "      <td>D:\\NotBackedup\\2012.pet</td>\n",
       "      <td>6B5A07A9-695C-4340-B3B3-E5F24C61DA85</td>\n",
       "      <td>A15</td>\n",
       "    </tr>\n",
       "    <tr>\n",
       "      <th>2</th>\n",
       "      <td>3</td>\n",
       "      <td>D:\\NotBackedup\\2012.pet</td>\n",
       "      <td>EA7DE57F-F769-4952-810F-A125DC93E9FE</td>\n",
       "      <td>A16</td>\n",
       "    </tr>\n",
       "    <tr>\n",
       "      <th>3</th>\n",
       "      <td>4</td>\n",
       "      <td>D:\\NotBackedup\\2012_2014.petR</td>\n",
       "      <td>02C62C82-552D-444D-BF6B-69CD07376368</td>\n",
       "      <td>A10</td>\n",
       "    </tr>\n",
       "    <tr>\n",
       "      <th>4</th>\n",
       "      <td>4</td>\n",
       "      <td>D:\\NotBackedup\\2012_2014.petR</td>\n",
       "      <td>6B5A07A9-695C-4340-B3B3-E5F24C61DA85</td>\n",
       "      <td>A15</td>\n",
       "    </tr>\n",
       "  </tbody>\n",
       "</table>\n",
       "</div>"
      ],
      "text/plain": [
       "   ProjectId                           Path  \\\n",
       "0          3        D:\\NotBackedup\\2012.pet   \n",
       "1          3        D:\\NotBackedup\\2012.pet   \n",
       "2          3        D:\\NotBackedup\\2012.pet   \n",
       "3          4  D:\\NotBackedup\\2012_2014.petR   \n",
       "4          4  D:\\NotBackedup\\2012_2014.petR   \n",
       "\n",
       "                                   Guid WellName  \n",
       "0  02C62C82-552D-444D-BF6B-69CD07376368      A10  \n",
       "1  6B5A07A9-695C-4340-B3B3-E5F24C61DA85      A15  \n",
       "2  EA7DE57F-F769-4952-810F-A125DC93E9FE      A16  \n",
       "3  02C62C82-552D-444D-BF6B-69CD07376368      A10  \n",
       "4  6B5A07A9-695C-4340-B3B3-E5F24C61DA85      A15  "
      ]
     },
     "execution_count": 149,
     "metadata": {},
     "output_type": "execute_result"
    }
   ],
   "source": [
    "import pandas as pd\n",
    "import pymssql\n",
    "\n",
    "sql_server = 'YourServer'      # <<<<<<<<<<< Change this to your SQL Server instance\n",
    "sql_database = 'Tracker'       # <<<<<<<<<<< Change this to your Tracker database name\n",
    "\n",
    "# Using Windows authentication\n",
    "con = pymssql.connect(server=sql_server, database=sql_database)\n",
    "sql = 'SELECT ProjectId, Path, GuidString, DataName FROM DataDetailed WHERE DataTypeId=9'\n",
    "df = pd.read_sql(sql, con)\n",
    "df.columns = ['ProjectId', 'Path', 'Guid', 'WellName']\n",
    "\n",
    "df.head()"
   ]
  },
  {
   "cell_type": "markdown",
   "metadata": {},
   "source": [
    "### Create the graph by creating edges between projects and data (wells). \n",
    "\n",
    "The nodes in the network will represent the Petrel projects and the data items. There will be an edge between each project and all the data items in that projects. If one data item exists in more than one project (the data item has the same GUID in all projects) there will be multiple edges in to that data item node.\n",
    "\n",
    "The degree of a project node will tell how many data items there are in that project.\n",
    "The degree of a data node will tell how many projects contains this data item.\n",
    "\n",
    "Note that duplicate nodes will not be created."
   ]
  },
  {
   "cell_type": "code",
   "execution_count": 119,
   "metadata": {},
   "outputs": [
    {
     "name": "stdout",
     "output_type": "stream",
     "text": [
      "Name: \n",
      "Type: Graph\n",
      "Number of nodes: 20329\n",
      "Number of edges: 62616\n",
      "Average degree:   6.1603\n",
      "Number of wells in Project with id 3: 3\n",
      "Number of projects where well A10 with GUID 02C62C82-552D-444D-BF6B-69CD07376368 exists: 47\n"
     ]
    }
   ],
   "source": [
    "import networkx as nx\n",
    "\n",
    "G = nx.from_pandas_edgelist(df, source='ProjectId', target='Guid')\n",
    "print(nx.info(G))\n",
    "print('Number of wells in Project with id 3: {}'.format(nx.degree(G, 3)))\n",
    "print('Number of projects where well A10 with GUID 02C62C82-552D-444D-BF6B-69CD07376368 exists: {}'.format(nx.degree(G, '02C62C82-552D-444D-BF6B-69CD07376368')))"
   ]
  },
  {
   "cell_type": "markdown",
   "metadata": {},
   "source": [
    "Extract the project nodes and data nodes. Set the bipartite attribute. This can be used later for some of the bipartite algorithms.\n"
   ]
  },
  {
   "cell_type": "code",
   "execution_count": 151,
   "metadata": {},
   "outputs": [
    {
     "name": "stdout",
     "output_type": "stream",
     "text": [
      "Number of project nodes: 139\n",
      "Number of date nodes: 20190\n"
     ]
    }
   ],
   "source": [
    "from networkx.algorithms import bipartite\n",
    "\n",
    "projectIds = df['ProjectId'].values\n",
    "guids = df['Guid'].values\n",
    "p = dict.fromkeys(projectIds, 0)\n",
    "g = dict.fromkeys(guids, 1)\n",
    "nx.set_node_attributes(G, p, 'bipartite')\n",
    "nx.set_node_attributes(G, g, 'bipartite')\n",
    "\n",
    "project_nodes = {n for n, d in G.nodes(data=True) if d['bipartite']==0}\n",
    "data_nodes = set(G) - project_nodes\n",
    "\n",
    "print('Number of project nodes: {}'.format(len(project_nodes)))\n",
    "print('Number of date nodes: {}'.format(len(data_nodes)))"
   ]
  },
  {
   "cell_type": "markdown",
   "metadata": {},
   "source": [
    "The degree of the project nodes is the number of wells in the projects"
   ]
  },
  {
   "cell_type": "code",
   "execution_count": 122,
   "metadata": {},
   "outputs": [],
   "source": [
    "project_degrees = nx.degree(G, nbunch=project_nodes)\n",
    "# Set the number of wells attribute on the project nodes\n",
    "nx.set_node_attributes(G, dict(project_degrees), 'NumberOfWells')\n"
   ]
  },
  {
   "cell_type": "markdown",
   "metadata": {},
   "source": [
    "### Extract project network\n",
    "\n",
    "The graph of projects and data is a [bipartite graph](https://en.wikipedia.org/wiki/Bipartite_graph). With a bipartite graph we can project the project nodes and extract a new graph with only projects. The projects will be connected by edges based on the wells they share. A weight on the edge will be equal to the number of wells thee projects have in common.\n",
    "\n",
    "If there are more than one connected component in the graph, this indicates that there are subsets of projects that do not share data items based on GUID. This can happen if data items are imported into different projects without using reference projects or Studio repositories."
   ]
  },
  {
   "cell_type": "code",
   "execution_count": 127,
   "metadata": {},
   "outputs": [
    {
     "name": "stdout",
     "output_type": "stream",
     "text": [
      "Number of connected componenets: 44\n",
      "Number of projects: 139\n",
      "Number of project nodes: 139\n"
     ]
    }
   ],
   "source": [
    "PG = bipartite.weighted_projected_graph(G, project_nodes)\n",
    "\n",
    "print('Number of connected componenets: {}'.format(nx.number_connected_components(PG)))\n",
    "print('Number of projects: {}'.format(df['ProjectId'].nunique()))\n",
    "print('Number of project nodes: {}'.format(len(PG.nodes())))\n"
   ]
  },
  {
   "cell_type": "markdown",
   "metadata": {},
   "source": [
    "### Rank the projects to find potential reference projects\n",
    "\n",
    "Node [centrality](https://en.wikipedia.org/wiki/Centrality) is a way to identify important or central nodes.\n",
    "\n",
    "In the Project graph the degree of projects nodes gives us the number of projects that share data items with that project.\n",
    "The weight of the edges between projects gives us the number of data items shared between the projects.\n",
    "(See [this](https://toreopsahl.com/tnet/weighted-networks/node-centrality/) article for a discussion)\n",
    "\n",
    "We want to find the projects that contains the most wells that are shared with other projects. One way to do this is to calculate a rank as a product of the degree and weighted degree and number of data items in the project.\n",
    "\n",
    "\n"
   ]
  },
  {
   "cell_type": "code",
   "execution_count": 142,
   "metadata": {},
   "outputs": [],
   "source": [
    "ref_project_rank = ([(n, nx.degree(PG, nbunch=n)*nx.degree(PG, nbunch=n, weight='weight')*((PG.nodes[n]['NumberOfWells']))) for n in PG.nodes() ])\n",
    "# Set the rank as an attribute on the nodes\n",
    "nx.set_node_attributes(PG, dict(ref_project_rank), 'Rank')"
   ]
  },
  {
   "cell_type": "markdown",
   "metadata": {},
   "source": [
    "For each project we now have the NumberOfWells and Rank as node attributes:"
   ]
  },
  {
   "cell_type": "code",
   "execution_count": 143,
   "metadata": {},
   "outputs": [
    {
     "data": {
      "text/plain": [
       "[(10496, {'NumberOfWells': 163, 'Rank': 0, 'bipartite': 0}),\n",
       " (257, {'NumberOfWells': 155, 'Rank': 10643385, 'bipartite': 0}),\n",
       " (10498, {'NumberOfWells': 245, 'Rank': 0, 'bipartite': 0}),\n",
       " (3, {'NumberOfWells': 3, 'Rank': 17907, 'bipartite': 0}),\n",
       " (4, {'NumberOfWells': 3, 'Rank': 17907, 'bipartite': 0})]"
      ]
     },
     "execution_count": 143,
     "metadata": {},
     "output_type": "execute_result"
    }
   ],
   "source": [
    "list(PG.nodes.data())[:5]"
   ]
  },
  {
   "cell_type": "markdown",
   "metadata": {},
   "source": [
    "If all well data exists in a common reference project the whole graph will be connected. If no common Guids exists between projects the number of disconnected sub-graphs will be equal to the number of projects.\n"
   ]
  },
  {
   "cell_type": "code",
   "execution_count": 144,
   "metadata": {},
   "outputs": [
    {
     "name": "stdout",
     "output_type": "stream",
     "text": [
      "Are all projects connected?: False\n",
      "Number of disconnected sets of Petrel projects: 44\n"
     ]
    }
   ],
   "source": [
    "print('Are all projects connected?: {}'.format(nx.is_connected(G)))\n",
    "sub_graphs = list(nx.connected_component_subgraphs(PG))\n",
    "print('Number of disconnected sets of Petrel projects: {}'.format(len(sub_graphs)))"
   ]
  },
  {
   "cell_type": "markdown",
   "metadata": {},
   "source": [
    "Sort the sub graphs from largest to smallest. Print size of top 10. Small sets are usually because of project duplications after Save As new project in Petrel."
   ]
  },
  {
   "cell_type": "code",
   "execution_count": 145,
   "metadata": {},
   "outputs": [
    {
     "data": {
      "text/plain": [
       "[63, 11, 9, 6, 3, 3, 2, 2, 2, 2]"
      ]
     },
     "execution_count": 145,
     "metadata": {},
     "output_type": "execute_result"
    }
   ],
   "source": [
    "sorted_sub_graphs = sorted(sub_graphs, key=len, reverse=True)\n",
    "l = [len(sg) for sg in sorted_sub_graphs]\n",
    "l[:10]"
   ]
  },
  {
   "cell_type": "markdown",
   "metadata": {},
   "source": [
    "Plot the largest graph. ProjectId as label."
   ]
  },
  {
   "cell_type": "code",
   "execution_count": 161,
   "metadata": {},
   "outputs": [],
   "source": [
    "#%matplotlib inline\n",
    "#import matplotlib.pyplot as plt\n",
    "\n",
    "#f = plt.figure(figsize=(10,10))\n",
    "#ax = f.add_subplot(121)\n",
    "#nx.draw(sorted_sub_graphs[0], with_labels=True)\n",
    "#plt.show()"
   ]
  },
  {
   "cell_type": "markdown",
   "metadata": {},
   "source": [
    "### List projects that can be used as reference projects or to populate Studio repositories\n",
    "\n",
    "The reference project is most likely the project that has the highest rank.\n",
    "For each set of projects, sort by rank and list the projects from highest to lower rank. The top most projects are candidates for reference projects or Studio repositories.\n",
    "\n",
    "The [density](https://en.wikipedia.org/wiki/Dense_graph) of the group is a measure for how well connected the projects are. If 1.0 all projects share a common set of data.\n"
   ]
  },
  {
   "cell_type": "code",
   "execution_count": 162,
   "metadata": {},
   "outputs": [
    {
     "name": "stdout",
     "output_type": "stream",
     "text": [
      "Size of group: 63\n",
      "Density of group:  0.5934459805427548\n",
      "\t 10507\t1.0000\t3504\t\\\\it19-ta-013\\G16\n",
      "\t 50588\t0.0210\t3501\t\\\\it19-ta-016\\Studio2018\\LoadTest\n",
      "\t 257\t0.0182\t155\tD:\\NotBackedup\\GullfaksDemoDataset_July24_2014\\Petrel2014_1 demo project.pet\n",
      "\t 10443\t0.0182\t155\tD:\\NotBackedup\\TestTracker601.pet\n",
      "\t 337\t0.0182\t155\tD:\\NotBackedup\\Petrel2014Gullfaks23Dec2014\\Petrel 2014 Gullfaks 23Dec2014\\Petrel2015 demo project ref.pet\n",
      "Size of group: 11\n",
      "Density of group:  1.0\n",
      "\t 63\t1.0000\t1496\tD:\\NotBackedup\\npdStudio2.pet\n",
      "\t 220\t1.0000\t1496\tD:\\NotBackedup\\DemoMove\\npdexpl2015.pet\n",
      "\t 222\t1.0000\t1496\tD:\\NotBackedup\\DemoMove\\npdStudio2.pet\n",
      "\t 265\t1.0000\t1496\tD:\\NotBackedup\\IntericaProjects\\npdexpl.pet\n",
      "\t 412\t1.0000\t1496\tD:\\NotBackedup\\Studio Test\\Project2-2014.pet\n",
      "Size of group: 9\n",
      "Density of group:  1.0\n",
      "\t 401\t1.0000\t3\tD:\\NotBackedup\\SpatialTest\\WellReference.pet\n",
      "\t 370\t1.0000\t3\tD:\\NotBackedup\\RefDataTest\\WellDataTest\\WellReferenceProject.petR\n",
      "\t 371\t1.0000\t3\tD:\\NotBackedup\\RefDataTest\\WellDataTestOld\\UserProject1.pet\n",
      "\t 380\t1.0000\t3\tD:\\NotBackedup\\SpatialTest\\AS6396.pet\n",
      "\t 363\t1.0000\t3\tD:\\NotBackedup\\RefDataTest\\WellDataTest\\UserProject1.pet\n",
      "Size of group: 6\n",
      "Density of group:  1.0\n",
      "\t 64\t1.0000\t1930\tD:\\NotBackedup\\npdwfl1.pet\n",
      "\t 65\t1.0000\t1930\tD:\\NotBackedup\\npdwfl1_2012.pet\n",
      "\t 423\t1.0000\t1930\tD:\\NotBackedup\\Test Petrel 2015\\npdwfl1_2012.pet\n",
      "\t 266\t1.0000\t1930\tD:\\NotBackedup\\IntericaProjects\\npdwfl1.pet\n",
      "\t 267\t1.0000\t1930\tD:\\NotBackedup\\IntericaProjects\\npdwfl1_2012.pet\n"
     ]
    }
   ],
   "source": [
    "\n",
    "for g in sorted_sub_graphs:\n",
    "    if len(g) < 4: # Skip small groups\n",
    "        continue\n",
    "    print('Size of group: {}'.format(len(g)))\n",
    "    print('Density of group: ', nx.density(g))\n",
    "    \n",
    "    # sort based on rank from highest to lowest rank\n",
    "    g_rank = list(g.nodes.data())\n",
    "    g_sorted = sorted(g_rank, key=lambda tup : tup[1]['Rank'], reverse=True)\n",
    "    \n",
    "    max_rank = g_sorted[0][1]['Rank']\n",
    "    if (max_rank == 0):\n",
    "        max_rank = 1\n",
    "    for sbtw in g_sorted[:5]:\n",
    "        pid = sbtw[0]\n",
    "        r = sbtw[1]['Rank']/max_rank # Normalize the rank to be between 0.0 and 1.0\n",
    "        nw = sbtw[1]['NumberOfWells']\n",
    "        project_path = df.loc[df['ProjectId'] == pid]['Path'].head(1).values[0]\n",
    "\n",
    "        print('\\t {0}\\t{1:.4f}\\t{2}\\t{3}'.format(pid, r, nw, project_path))\n"
   ]
  },
  {
   "cell_type": "code",
   "execution_count": null,
   "metadata": {},
   "outputs": [],
   "source": []
  }
 ],
 "metadata": {
  "kernelspec": {
   "display_name": "Python 3",
   "language": "python",
   "name": "python3"
  },
  "language_info": {
   "codemirror_mode": {
    "name": "ipython",
    "version": 3
   },
   "file_extension": ".py",
   "mimetype": "text/x-python",
   "name": "python",
   "nbconvert_exporter": "python",
   "pygments_lexer": "ipython3",
   "version": "3.5.5"
  }
 },
 "nbformat": 4,
 "nbformat_minor": 2
}
